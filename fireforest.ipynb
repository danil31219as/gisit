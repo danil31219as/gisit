{
  "nbformat": 4,
  "nbformat_minor": 0,
  "metadata": {
    "colab": {
      "name": "fireforest.ipynb",
      "provenance": [],
      "authorship_tag": "ABX9TyOzLEivDRBiFIYBm/MR10aC",
      "include_colab_link": true
    },
    "kernelspec": {
      "name": "python3",
      "display_name": "Python 3"
    },
    "language_info": {
      "name": "python"
    }
  },
  "cells": [
    {
      "cell_type": "markdown",
      "metadata": {
        "id": "view-in-github",
        "colab_type": "text"
      },
      "source": [
        "<a href=\"https://colab.research.google.com/github/danil31219as/gisit/blob/main/fireforest.ipynb\" target=\"_parent\"><img src=\"https://colab.research.google.com/assets/colab-badge.svg\" alt=\"Open In Colab\"/></a>"
      ]
    },
    {
      "cell_type": "code",
      "metadata": {
        "colab": {
          "base_uri": "https://localhost:8080/"
        },
        "id": "Ocvov49-8C9r",
        "outputId": "abf57e6e-e026-4b54-c47e-fae2aeb17543"
      },
      "source": [
        "!unzip fires.zip"
      ],
      "execution_count": 1,
      "outputs": [
        {
          "output_type": "stream",
          "text": [
            "Archive:  fires.zip\n",
            "  inflating: Данные по пожарам за 5 лет/2016.xls  \n",
            "  inflating: Данные по пожарам за 5 лет/2015.xls  \n",
            "  inflating: Данные по пожарам за 5 лет/2020.xls  \n",
            "  inflating: Данные по пожарам за 5 лет/2019.xls  \n",
            "  inflating: Данные по пожарам за 5 лет/2018.xls  \n",
            "  inflating: Данные по пожарам за 5 лет/Копия 2011.xls  \n",
            "  inflating: Данные по пожарам за 5 лет/2011.xls  \n",
            "  inflating: Данные по пожарам за 5 лет/2017.xls  \n"
          ],
          "name": "stdout"
        }
      ]
    },
    {
      "cell_type": "code",
      "metadata": {
        "id": "_CtDEguB8QPl"
      },
      "source": [
        "import pandas as pd\n",
        "import numpy as np\n",
        "from sklearn.model_selection import train_test_split\n",
        "from sklearn.metrics import *\n",
        "from lightgbm import LGBMRegressor\n",
        "import datetime"
      ],
      "execution_count": 22,
      "outputs": []
    },
    {
      "cell_type": "code",
      "metadata": {
        "colab": {
          "base_uri": "https://localhost:8080/"
        },
        "id": "gtPiTT2A_2bU",
        "outputId": "e6b7529e-4458-4a0a-df91-2697942fbe03"
      },
      "source": [
        "!pip install lightgbm"
      ],
      "execution_count": 3,
      "outputs": [
        {
          "output_type": "stream",
          "text": [
            "Requirement already satisfied: lightgbm in /usr/local/lib/python3.7/dist-packages (2.2.3)\n",
            "Requirement already satisfied: scipy in /usr/local/lib/python3.7/dist-packages (from lightgbm) (1.4.1)\n",
            "Requirement already satisfied: numpy in /usr/local/lib/python3.7/dist-packages (from lightgbm) (1.19.5)\n",
            "Requirement already satisfied: scikit-learn in /usr/local/lib/python3.7/dist-packages (from lightgbm) (0.22.2.post1)\n",
            "Requirement already satisfied: joblib>=0.11 in /usr/local/lib/python3.7/dist-packages (from scikit-learn->lightgbm) (1.0.1)\n"
          ],
          "name": "stdout"
        }
      ]
    },
    {
      "cell_type": "code",
      "metadata": {
        "id": "VbBm2_zJ8kkL"
      },
      "source": [
        "df = pd.read_csv('forestfires.csv')"
      ],
      "execution_count": null,
      "outputs": []
    },
    {
      "cell_type": "code",
      "metadata": {
        "id": "M4H6I7LJ8qbA"
      },
      "source": [
        "X_train, X_test, y_train, y_test = train_test_split(pd.get_dummies(df.drop(['area', 'day', 'X', 'Y'], axis=1)), df['area'], test_size=0.1)"
      ],
      "execution_count": null,
      "outputs": []
    },
    {
      "cell_type": "code",
      "metadata": {
        "colab": {
          "base_uri": "https://localhost:8080/",
          "height": 415
        },
        "id": "q6Nzy-ZoASA2",
        "outputId": "352f8916-79c9-41e8-ecce-7b34feb6e7b3"
      },
      "source": [
        "df"
      ],
      "execution_count": null,
      "outputs": [
        {
          "output_type": "execute_result",
          "data": {
            "text/html": [
              "<div>\n",
              "<style scoped>\n",
              "    .dataframe tbody tr th:only-of-type {\n",
              "        vertical-align: middle;\n",
              "    }\n",
              "\n",
              "    .dataframe tbody tr th {\n",
              "        vertical-align: top;\n",
              "    }\n",
              "\n",
              "    .dataframe thead th {\n",
              "        text-align: right;\n",
              "    }\n",
              "</style>\n",
              "<table border=\"1\" class=\"dataframe\">\n",
              "  <thead>\n",
              "    <tr style=\"text-align: right;\">\n",
              "      <th></th>\n",
              "      <th>X</th>\n",
              "      <th>Y</th>\n",
              "      <th>month</th>\n",
              "      <th>day</th>\n",
              "      <th>FFMC</th>\n",
              "      <th>DMC</th>\n",
              "      <th>DC</th>\n",
              "      <th>ISI</th>\n",
              "      <th>temp</th>\n",
              "      <th>RH</th>\n",
              "      <th>wind</th>\n",
              "      <th>rain</th>\n",
              "      <th>area</th>\n",
              "    </tr>\n",
              "  </thead>\n",
              "  <tbody>\n",
              "    <tr>\n",
              "      <th>0</th>\n",
              "      <td>7</td>\n",
              "      <td>5</td>\n",
              "      <td>mar</td>\n",
              "      <td>fri</td>\n",
              "      <td>86.2</td>\n",
              "      <td>26.2</td>\n",
              "      <td>94.3</td>\n",
              "      <td>5.1</td>\n",
              "      <td>8.2</td>\n",
              "      <td>51</td>\n",
              "      <td>6.7</td>\n",
              "      <td>0.0</td>\n",
              "      <td>0.00</td>\n",
              "    </tr>\n",
              "    <tr>\n",
              "      <th>1</th>\n",
              "      <td>7</td>\n",
              "      <td>4</td>\n",
              "      <td>oct</td>\n",
              "      <td>tue</td>\n",
              "      <td>90.6</td>\n",
              "      <td>35.4</td>\n",
              "      <td>669.1</td>\n",
              "      <td>6.7</td>\n",
              "      <td>18.0</td>\n",
              "      <td>33</td>\n",
              "      <td>0.9</td>\n",
              "      <td>0.0</td>\n",
              "      <td>0.00</td>\n",
              "    </tr>\n",
              "    <tr>\n",
              "      <th>2</th>\n",
              "      <td>7</td>\n",
              "      <td>4</td>\n",
              "      <td>oct</td>\n",
              "      <td>sat</td>\n",
              "      <td>90.6</td>\n",
              "      <td>43.7</td>\n",
              "      <td>686.9</td>\n",
              "      <td>6.7</td>\n",
              "      <td>14.6</td>\n",
              "      <td>33</td>\n",
              "      <td>1.3</td>\n",
              "      <td>0.0</td>\n",
              "      <td>0.00</td>\n",
              "    </tr>\n",
              "    <tr>\n",
              "      <th>3</th>\n",
              "      <td>8</td>\n",
              "      <td>6</td>\n",
              "      <td>mar</td>\n",
              "      <td>fri</td>\n",
              "      <td>91.7</td>\n",
              "      <td>33.3</td>\n",
              "      <td>77.5</td>\n",
              "      <td>9.0</td>\n",
              "      <td>8.3</td>\n",
              "      <td>97</td>\n",
              "      <td>4.0</td>\n",
              "      <td>0.2</td>\n",
              "      <td>0.00</td>\n",
              "    </tr>\n",
              "    <tr>\n",
              "      <th>4</th>\n",
              "      <td>8</td>\n",
              "      <td>6</td>\n",
              "      <td>mar</td>\n",
              "      <td>sun</td>\n",
              "      <td>89.3</td>\n",
              "      <td>51.3</td>\n",
              "      <td>102.2</td>\n",
              "      <td>9.6</td>\n",
              "      <td>11.4</td>\n",
              "      <td>99</td>\n",
              "      <td>1.8</td>\n",
              "      <td>0.0</td>\n",
              "      <td>0.00</td>\n",
              "    </tr>\n",
              "    <tr>\n",
              "      <th>...</th>\n",
              "      <td>...</td>\n",
              "      <td>...</td>\n",
              "      <td>...</td>\n",
              "      <td>...</td>\n",
              "      <td>...</td>\n",
              "      <td>...</td>\n",
              "      <td>...</td>\n",
              "      <td>...</td>\n",
              "      <td>...</td>\n",
              "      <td>...</td>\n",
              "      <td>...</td>\n",
              "      <td>...</td>\n",
              "      <td>...</td>\n",
              "    </tr>\n",
              "    <tr>\n",
              "      <th>512</th>\n",
              "      <td>4</td>\n",
              "      <td>3</td>\n",
              "      <td>aug</td>\n",
              "      <td>sun</td>\n",
              "      <td>81.6</td>\n",
              "      <td>56.7</td>\n",
              "      <td>665.6</td>\n",
              "      <td>1.9</td>\n",
              "      <td>27.8</td>\n",
              "      <td>32</td>\n",
              "      <td>2.7</td>\n",
              "      <td>0.0</td>\n",
              "      <td>6.44</td>\n",
              "    </tr>\n",
              "    <tr>\n",
              "      <th>513</th>\n",
              "      <td>2</td>\n",
              "      <td>4</td>\n",
              "      <td>aug</td>\n",
              "      <td>sun</td>\n",
              "      <td>81.6</td>\n",
              "      <td>56.7</td>\n",
              "      <td>665.6</td>\n",
              "      <td>1.9</td>\n",
              "      <td>21.9</td>\n",
              "      <td>71</td>\n",
              "      <td>5.8</td>\n",
              "      <td>0.0</td>\n",
              "      <td>54.29</td>\n",
              "    </tr>\n",
              "    <tr>\n",
              "      <th>514</th>\n",
              "      <td>7</td>\n",
              "      <td>4</td>\n",
              "      <td>aug</td>\n",
              "      <td>sun</td>\n",
              "      <td>81.6</td>\n",
              "      <td>56.7</td>\n",
              "      <td>665.6</td>\n",
              "      <td>1.9</td>\n",
              "      <td>21.2</td>\n",
              "      <td>70</td>\n",
              "      <td>6.7</td>\n",
              "      <td>0.0</td>\n",
              "      <td>11.16</td>\n",
              "    </tr>\n",
              "    <tr>\n",
              "      <th>515</th>\n",
              "      <td>1</td>\n",
              "      <td>4</td>\n",
              "      <td>aug</td>\n",
              "      <td>sat</td>\n",
              "      <td>94.4</td>\n",
              "      <td>146.0</td>\n",
              "      <td>614.7</td>\n",
              "      <td>11.3</td>\n",
              "      <td>25.6</td>\n",
              "      <td>42</td>\n",
              "      <td>4.0</td>\n",
              "      <td>0.0</td>\n",
              "      <td>0.00</td>\n",
              "    </tr>\n",
              "    <tr>\n",
              "      <th>516</th>\n",
              "      <td>6</td>\n",
              "      <td>3</td>\n",
              "      <td>nov</td>\n",
              "      <td>tue</td>\n",
              "      <td>79.5</td>\n",
              "      <td>3.0</td>\n",
              "      <td>106.7</td>\n",
              "      <td>1.1</td>\n",
              "      <td>11.8</td>\n",
              "      <td>31</td>\n",
              "      <td>4.5</td>\n",
              "      <td>0.0</td>\n",
              "      <td>0.00</td>\n",
              "    </tr>\n",
              "  </tbody>\n",
              "</table>\n",
              "<p>517 rows × 13 columns</p>\n",
              "</div>"
            ],
            "text/plain": [
              "     X  Y month  day  FFMC    DMC     DC   ISI  temp  RH  wind  rain   area\n",
              "0    7  5   mar  fri  86.2   26.2   94.3   5.1   8.2  51   6.7   0.0   0.00\n",
              "1    7  4   oct  tue  90.6   35.4  669.1   6.7  18.0  33   0.9   0.0   0.00\n",
              "2    7  4   oct  sat  90.6   43.7  686.9   6.7  14.6  33   1.3   0.0   0.00\n",
              "3    8  6   mar  fri  91.7   33.3   77.5   9.0   8.3  97   4.0   0.2   0.00\n",
              "4    8  6   mar  sun  89.3   51.3  102.2   9.6  11.4  99   1.8   0.0   0.00\n",
              "..  .. ..   ...  ...   ...    ...    ...   ...   ...  ..   ...   ...    ...\n",
              "512  4  3   aug  sun  81.6   56.7  665.6   1.9  27.8  32   2.7   0.0   6.44\n",
              "513  2  4   aug  sun  81.6   56.7  665.6   1.9  21.9  71   5.8   0.0  54.29\n",
              "514  7  4   aug  sun  81.6   56.7  665.6   1.9  21.2  70   6.7   0.0  11.16\n",
              "515  1  4   aug  sat  94.4  146.0  614.7  11.3  25.6  42   4.0   0.0   0.00\n",
              "516  6  3   nov  tue  79.5    3.0  106.7   1.1  11.8  31   4.5   0.0   0.00\n",
              "\n",
              "[517 rows x 13 columns]"
            ]
          },
          "metadata": {
            "tags": []
          },
          "execution_count": 14
        }
      ]
    },
    {
      "cell_type": "code",
      "metadata": {
        "id": "vA_jwzKi8rqi"
      },
      "source": [
        "model = LGBMRegressor().fit(X_train, y_train)"
      ],
      "execution_count": null,
      "outputs": []
    },
    {
      "cell_type": "code",
      "metadata": {
        "colab": {
          "base_uri": "https://localhost:8080/"
        },
        "id": "aXuF2vPIB4Fl",
        "outputId": "6345eff4-28af-452f-a9cf-98f6a864dea7"
      },
      "source": [
        "y_pred = model.predict(X_test)\n",
        "mean_absolute_error(y_test, y_pred), mean_squared_error(y_test, y_pred, squared=False)"
      ],
      "execution_count": null,
      "outputs": [
        {
          "output_type": "execute_result",
          "data": {
            "text/plain": [
              "(35.66779661437039, 151.83290045886488)"
            ]
          },
          "metadata": {
            "tags": []
          },
          "execution_count": 16
        }
      ]
    },
    {
      "cell_type": "code",
      "metadata": {
        "colab": {
          "base_uri": "https://localhost:8080/",
          "height": 435
        },
        "id": "q-bj7RQ8AOOj",
        "outputId": "e5915339-927a-429b-9f0c-25b3901a19f0"
      },
      "source": [
        "pd.get_dummies(df)"
      ],
      "execution_count": null,
      "outputs": [
        {
          "output_type": "execute_result",
          "data": {
            "text/html": [
              "<div>\n",
              "<style scoped>\n",
              "    .dataframe tbody tr th:only-of-type {\n",
              "        vertical-align: middle;\n",
              "    }\n",
              "\n",
              "    .dataframe tbody tr th {\n",
              "        vertical-align: top;\n",
              "    }\n",
              "\n",
              "    .dataframe thead th {\n",
              "        text-align: right;\n",
              "    }\n",
              "</style>\n",
              "<table border=\"1\" class=\"dataframe\">\n",
              "  <thead>\n",
              "    <tr style=\"text-align: right;\">\n",
              "      <th></th>\n",
              "      <th>X</th>\n",
              "      <th>Y</th>\n",
              "      <th>FFMC</th>\n",
              "      <th>DMC</th>\n",
              "      <th>DC</th>\n",
              "      <th>ISI</th>\n",
              "      <th>temp</th>\n",
              "      <th>RH</th>\n",
              "      <th>wind</th>\n",
              "      <th>rain</th>\n",
              "      <th>area</th>\n",
              "      <th>month_apr</th>\n",
              "      <th>month_aug</th>\n",
              "      <th>month_dec</th>\n",
              "      <th>month_feb</th>\n",
              "      <th>month_jan</th>\n",
              "      <th>month_jul</th>\n",
              "      <th>month_jun</th>\n",
              "      <th>month_mar</th>\n",
              "      <th>month_may</th>\n",
              "      <th>month_nov</th>\n",
              "      <th>month_oct</th>\n",
              "      <th>month_sep</th>\n",
              "      <th>day_fri</th>\n",
              "      <th>day_mon</th>\n",
              "      <th>day_sat</th>\n",
              "      <th>day_sun</th>\n",
              "      <th>day_thu</th>\n",
              "      <th>day_tue</th>\n",
              "      <th>day_wed</th>\n",
              "    </tr>\n",
              "  </thead>\n",
              "  <tbody>\n",
              "    <tr>\n",
              "      <th>0</th>\n",
              "      <td>7</td>\n",
              "      <td>5</td>\n",
              "      <td>86.2</td>\n",
              "      <td>26.2</td>\n",
              "      <td>94.3</td>\n",
              "      <td>5.1</td>\n",
              "      <td>8.2</td>\n",
              "      <td>51</td>\n",
              "      <td>6.7</td>\n",
              "      <td>0.0</td>\n",
              "      <td>0.00</td>\n",
              "      <td>0</td>\n",
              "      <td>0</td>\n",
              "      <td>0</td>\n",
              "      <td>0</td>\n",
              "      <td>0</td>\n",
              "      <td>0</td>\n",
              "      <td>0</td>\n",
              "      <td>1</td>\n",
              "      <td>0</td>\n",
              "      <td>0</td>\n",
              "      <td>0</td>\n",
              "      <td>0</td>\n",
              "      <td>1</td>\n",
              "      <td>0</td>\n",
              "      <td>0</td>\n",
              "      <td>0</td>\n",
              "      <td>0</td>\n",
              "      <td>0</td>\n",
              "      <td>0</td>\n",
              "    </tr>\n",
              "    <tr>\n",
              "      <th>1</th>\n",
              "      <td>7</td>\n",
              "      <td>4</td>\n",
              "      <td>90.6</td>\n",
              "      <td>35.4</td>\n",
              "      <td>669.1</td>\n",
              "      <td>6.7</td>\n",
              "      <td>18.0</td>\n",
              "      <td>33</td>\n",
              "      <td>0.9</td>\n",
              "      <td>0.0</td>\n",
              "      <td>0.00</td>\n",
              "      <td>0</td>\n",
              "      <td>0</td>\n",
              "      <td>0</td>\n",
              "      <td>0</td>\n",
              "      <td>0</td>\n",
              "      <td>0</td>\n",
              "      <td>0</td>\n",
              "      <td>0</td>\n",
              "      <td>0</td>\n",
              "      <td>0</td>\n",
              "      <td>1</td>\n",
              "      <td>0</td>\n",
              "      <td>0</td>\n",
              "      <td>0</td>\n",
              "      <td>0</td>\n",
              "      <td>0</td>\n",
              "      <td>0</td>\n",
              "      <td>1</td>\n",
              "      <td>0</td>\n",
              "    </tr>\n",
              "    <tr>\n",
              "      <th>2</th>\n",
              "      <td>7</td>\n",
              "      <td>4</td>\n",
              "      <td>90.6</td>\n",
              "      <td>43.7</td>\n",
              "      <td>686.9</td>\n",
              "      <td>6.7</td>\n",
              "      <td>14.6</td>\n",
              "      <td>33</td>\n",
              "      <td>1.3</td>\n",
              "      <td>0.0</td>\n",
              "      <td>0.00</td>\n",
              "      <td>0</td>\n",
              "      <td>0</td>\n",
              "      <td>0</td>\n",
              "      <td>0</td>\n",
              "      <td>0</td>\n",
              "      <td>0</td>\n",
              "      <td>0</td>\n",
              "      <td>0</td>\n",
              "      <td>0</td>\n",
              "      <td>0</td>\n",
              "      <td>1</td>\n",
              "      <td>0</td>\n",
              "      <td>0</td>\n",
              "      <td>0</td>\n",
              "      <td>1</td>\n",
              "      <td>0</td>\n",
              "      <td>0</td>\n",
              "      <td>0</td>\n",
              "      <td>0</td>\n",
              "    </tr>\n",
              "    <tr>\n",
              "      <th>3</th>\n",
              "      <td>8</td>\n",
              "      <td>6</td>\n",
              "      <td>91.7</td>\n",
              "      <td>33.3</td>\n",
              "      <td>77.5</td>\n",
              "      <td>9.0</td>\n",
              "      <td>8.3</td>\n",
              "      <td>97</td>\n",
              "      <td>4.0</td>\n",
              "      <td>0.2</td>\n",
              "      <td>0.00</td>\n",
              "      <td>0</td>\n",
              "      <td>0</td>\n",
              "      <td>0</td>\n",
              "      <td>0</td>\n",
              "      <td>0</td>\n",
              "      <td>0</td>\n",
              "      <td>0</td>\n",
              "      <td>1</td>\n",
              "      <td>0</td>\n",
              "      <td>0</td>\n",
              "      <td>0</td>\n",
              "      <td>0</td>\n",
              "      <td>1</td>\n",
              "      <td>0</td>\n",
              "      <td>0</td>\n",
              "      <td>0</td>\n",
              "      <td>0</td>\n",
              "      <td>0</td>\n",
              "      <td>0</td>\n",
              "    </tr>\n",
              "    <tr>\n",
              "      <th>4</th>\n",
              "      <td>8</td>\n",
              "      <td>6</td>\n",
              "      <td>89.3</td>\n",
              "      <td>51.3</td>\n",
              "      <td>102.2</td>\n",
              "      <td>9.6</td>\n",
              "      <td>11.4</td>\n",
              "      <td>99</td>\n",
              "      <td>1.8</td>\n",
              "      <td>0.0</td>\n",
              "      <td>0.00</td>\n",
              "      <td>0</td>\n",
              "      <td>0</td>\n",
              "      <td>0</td>\n",
              "      <td>0</td>\n",
              "      <td>0</td>\n",
              "      <td>0</td>\n",
              "      <td>0</td>\n",
              "      <td>1</td>\n",
              "      <td>0</td>\n",
              "      <td>0</td>\n",
              "      <td>0</td>\n",
              "      <td>0</td>\n",
              "      <td>0</td>\n",
              "      <td>0</td>\n",
              "      <td>0</td>\n",
              "      <td>1</td>\n",
              "      <td>0</td>\n",
              "      <td>0</td>\n",
              "      <td>0</td>\n",
              "    </tr>\n",
              "    <tr>\n",
              "      <th>...</th>\n",
              "      <td>...</td>\n",
              "      <td>...</td>\n",
              "      <td>...</td>\n",
              "      <td>...</td>\n",
              "      <td>...</td>\n",
              "      <td>...</td>\n",
              "      <td>...</td>\n",
              "      <td>...</td>\n",
              "      <td>...</td>\n",
              "      <td>...</td>\n",
              "      <td>...</td>\n",
              "      <td>...</td>\n",
              "      <td>...</td>\n",
              "      <td>...</td>\n",
              "      <td>...</td>\n",
              "      <td>...</td>\n",
              "      <td>...</td>\n",
              "      <td>...</td>\n",
              "      <td>...</td>\n",
              "      <td>...</td>\n",
              "      <td>...</td>\n",
              "      <td>...</td>\n",
              "      <td>...</td>\n",
              "      <td>...</td>\n",
              "      <td>...</td>\n",
              "      <td>...</td>\n",
              "      <td>...</td>\n",
              "      <td>...</td>\n",
              "      <td>...</td>\n",
              "      <td>...</td>\n",
              "    </tr>\n",
              "    <tr>\n",
              "      <th>512</th>\n",
              "      <td>4</td>\n",
              "      <td>3</td>\n",
              "      <td>81.6</td>\n",
              "      <td>56.7</td>\n",
              "      <td>665.6</td>\n",
              "      <td>1.9</td>\n",
              "      <td>27.8</td>\n",
              "      <td>32</td>\n",
              "      <td>2.7</td>\n",
              "      <td>0.0</td>\n",
              "      <td>6.44</td>\n",
              "      <td>0</td>\n",
              "      <td>1</td>\n",
              "      <td>0</td>\n",
              "      <td>0</td>\n",
              "      <td>0</td>\n",
              "      <td>0</td>\n",
              "      <td>0</td>\n",
              "      <td>0</td>\n",
              "      <td>0</td>\n",
              "      <td>0</td>\n",
              "      <td>0</td>\n",
              "      <td>0</td>\n",
              "      <td>0</td>\n",
              "      <td>0</td>\n",
              "      <td>0</td>\n",
              "      <td>1</td>\n",
              "      <td>0</td>\n",
              "      <td>0</td>\n",
              "      <td>0</td>\n",
              "    </tr>\n",
              "    <tr>\n",
              "      <th>513</th>\n",
              "      <td>2</td>\n",
              "      <td>4</td>\n",
              "      <td>81.6</td>\n",
              "      <td>56.7</td>\n",
              "      <td>665.6</td>\n",
              "      <td>1.9</td>\n",
              "      <td>21.9</td>\n",
              "      <td>71</td>\n",
              "      <td>5.8</td>\n",
              "      <td>0.0</td>\n",
              "      <td>54.29</td>\n",
              "      <td>0</td>\n",
              "      <td>1</td>\n",
              "      <td>0</td>\n",
              "      <td>0</td>\n",
              "      <td>0</td>\n",
              "      <td>0</td>\n",
              "      <td>0</td>\n",
              "      <td>0</td>\n",
              "      <td>0</td>\n",
              "      <td>0</td>\n",
              "      <td>0</td>\n",
              "      <td>0</td>\n",
              "      <td>0</td>\n",
              "      <td>0</td>\n",
              "      <td>0</td>\n",
              "      <td>1</td>\n",
              "      <td>0</td>\n",
              "      <td>0</td>\n",
              "      <td>0</td>\n",
              "    </tr>\n",
              "    <tr>\n",
              "      <th>514</th>\n",
              "      <td>7</td>\n",
              "      <td>4</td>\n",
              "      <td>81.6</td>\n",
              "      <td>56.7</td>\n",
              "      <td>665.6</td>\n",
              "      <td>1.9</td>\n",
              "      <td>21.2</td>\n",
              "      <td>70</td>\n",
              "      <td>6.7</td>\n",
              "      <td>0.0</td>\n",
              "      <td>11.16</td>\n",
              "      <td>0</td>\n",
              "      <td>1</td>\n",
              "      <td>0</td>\n",
              "      <td>0</td>\n",
              "      <td>0</td>\n",
              "      <td>0</td>\n",
              "      <td>0</td>\n",
              "      <td>0</td>\n",
              "      <td>0</td>\n",
              "      <td>0</td>\n",
              "      <td>0</td>\n",
              "      <td>0</td>\n",
              "      <td>0</td>\n",
              "      <td>0</td>\n",
              "      <td>0</td>\n",
              "      <td>1</td>\n",
              "      <td>0</td>\n",
              "      <td>0</td>\n",
              "      <td>0</td>\n",
              "    </tr>\n",
              "    <tr>\n",
              "      <th>515</th>\n",
              "      <td>1</td>\n",
              "      <td>4</td>\n",
              "      <td>94.4</td>\n",
              "      <td>146.0</td>\n",
              "      <td>614.7</td>\n",
              "      <td>11.3</td>\n",
              "      <td>25.6</td>\n",
              "      <td>42</td>\n",
              "      <td>4.0</td>\n",
              "      <td>0.0</td>\n",
              "      <td>0.00</td>\n",
              "      <td>0</td>\n",
              "      <td>1</td>\n",
              "      <td>0</td>\n",
              "      <td>0</td>\n",
              "      <td>0</td>\n",
              "      <td>0</td>\n",
              "      <td>0</td>\n",
              "      <td>0</td>\n",
              "      <td>0</td>\n",
              "      <td>0</td>\n",
              "      <td>0</td>\n",
              "      <td>0</td>\n",
              "      <td>0</td>\n",
              "      <td>0</td>\n",
              "      <td>1</td>\n",
              "      <td>0</td>\n",
              "      <td>0</td>\n",
              "      <td>0</td>\n",
              "      <td>0</td>\n",
              "    </tr>\n",
              "    <tr>\n",
              "      <th>516</th>\n",
              "      <td>6</td>\n",
              "      <td>3</td>\n",
              "      <td>79.5</td>\n",
              "      <td>3.0</td>\n",
              "      <td>106.7</td>\n",
              "      <td>1.1</td>\n",
              "      <td>11.8</td>\n",
              "      <td>31</td>\n",
              "      <td>4.5</td>\n",
              "      <td>0.0</td>\n",
              "      <td>0.00</td>\n",
              "      <td>0</td>\n",
              "      <td>0</td>\n",
              "      <td>0</td>\n",
              "      <td>0</td>\n",
              "      <td>0</td>\n",
              "      <td>0</td>\n",
              "      <td>0</td>\n",
              "      <td>0</td>\n",
              "      <td>0</td>\n",
              "      <td>1</td>\n",
              "      <td>0</td>\n",
              "      <td>0</td>\n",
              "      <td>0</td>\n",
              "      <td>0</td>\n",
              "      <td>0</td>\n",
              "      <td>0</td>\n",
              "      <td>0</td>\n",
              "      <td>1</td>\n",
              "      <td>0</td>\n",
              "    </tr>\n",
              "  </tbody>\n",
              "</table>\n",
              "<p>517 rows × 30 columns</p>\n",
              "</div>"
            ],
            "text/plain": [
              "     X  Y  FFMC    DMC     DC  ...  day_sat  day_sun  day_thu  day_tue  day_wed\n",
              "0    7  5  86.2   26.2   94.3  ...        0        0        0        0        0\n",
              "1    7  4  90.6   35.4  669.1  ...        0        0        0        1        0\n",
              "2    7  4  90.6   43.7  686.9  ...        1        0        0        0        0\n",
              "3    8  6  91.7   33.3   77.5  ...        0        0        0        0        0\n",
              "4    8  6  89.3   51.3  102.2  ...        0        1        0        0        0\n",
              "..  .. ..   ...    ...    ...  ...      ...      ...      ...      ...      ...\n",
              "512  4  3  81.6   56.7  665.6  ...        0        1        0        0        0\n",
              "513  2  4  81.6   56.7  665.6  ...        0        1        0        0        0\n",
              "514  7  4  81.6   56.7  665.6  ...        0        1        0        0        0\n",
              "515  1  4  94.4  146.0  614.7  ...        1        0        0        0        0\n",
              "516  6  3  79.5    3.0  106.7  ...        0        0        0        1        0\n",
              "\n",
              "[517 rows x 30 columns]"
            ]
          },
          "metadata": {
            "tags": []
          },
          "execution_count": 12
        }
      ]
    },
    {
      "cell_type": "code",
      "metadata": {
        "id": "va6f3v64BswV"
      },
      "source": [
        "f = open('SCH4D3.txt').read()"
      ],
      "execution_count": 41,
      "outputs": []
    },
    {
      "cell_type": "code",
      "metadata": {
        "colab": {
          "base_uri": "https://localhost:8080/"
        },
        "id": "sUBMv3mg93f0",
        "outputId": "cfb86079-b58f-4d04-ccdb-a5dc29f39701"
      },
      "source": [
        "len(f.split('\\n'))"
      ],
      "execution_count": 42,
      "outputs": [
        {
          "output_type": "execute_result",
          "data": {
            "text/plain": [
              "3865"
            ]
          },
          "metadata": {
            "tags": []
          },
          "execution_count": 42
        }
      ]
    },
    {
      "cell_type": "code",
      "metadata": {
        "id": "gjA-UlBk95d7"
      },
      "source": [
        "df = pd.DataFrame([elem.split() for elem in f.split('\\n')])"
      ],
      "execution_count": 43,
      "outputs": []
    },
    {
      "cell_type": "code",
      "metadata": {
        "id": "lC9mfxPUCI_z"
      },
      "source": [
        "df = df.drop([4, 5, 6, 8, 10, 11, 13, 15, 17, 19], axis=1)"
      ],
      "execution_count": 45,
      "outputs": []
    },
    {
      "cell_type": "code",
      "metadata": {
        "colab": {
          "base_uri": "https://localhost:8080/",
          "height": 415
        },
        "id": "tsMM1-gU8Tps",
        "outputId": "14b1359b-9aaa-4b3a-e530-5288cbab26be"
      },
      "source": [
        "df"
      ],
      "execution_count": 46,
      "outputs": [
        {
          "output_type": "execute_result",
          "data": {
            "text/html": [
              "<div>\n",
              "<style scoped>\n",
              "    .dataframe tbody tr th:only-of-type {\n",
              "        vertical-align: middle;\n",
              "    }\n",
              "\n",
              "    .dataframe tbody tr th {\n",
              "        vertical-align: top;\n",
              "    }\n",
              "\n",
              "    .dataframe thead th {\n",
              "        text-align: right;\n",
              "    }\n",
              "</style>\n",
              "<table border=\"1\" class=\"dataframe\">\n",
              "  <thead>\n",
              "    <tr style=\"text-align: right;\">\n",
              "      <th></th>\n",
              "      <th>0</th>\n",
              "      <th>1</th>\n",
              "      <th>2</th>\n",
              "      <th>3</th>\n",
              "      <th>7</th>\n",
              "      <th>9</th>\n",
              "      <th>12</th>\n",
              "      <th>14</th>\n",
              "      <th>16</th>\n",
              "      <th>18</th>\n",
              "    </tr>\n",
              "  </thead>\n",
              "  <tbody>\n",
              "    <tr>\n",
              "      <th>0</th>\n",
              "      <td>24959</td>\n",
              "      <td>2010</td>\n",
              "      <td>1</td>\n",
              "      <td>1</td>\n",
              "      <td>0</td>\n",
              "      <td>0</td>\n",
              "      <td>0.0</td>\n",
              "      <td>-39.3</td>\n",
              "      <td>80</td>\n",
              "      <td>1026.7</td>\n",
              "    </tr>\n",
              "    <tr>\n",
              "      <th>1</th>\n",
              "      <td>24959</td>\n",
              "      <td>2010</td>\n",
              "      <td>1</td>\n",
              "      <td>2</td>\n",
              "      <td>310</td>\n",
              "      <td>1</td>\n",
              "      <td>0.0</td>\n",
              "      <td>-38.3</td>\n",
              "      <td>80</td>\n",
              "      <td>1030.3</td>\n",
              "    </tr>\n",
              "    <tr>\n",
              "      <th>2</th>\n",
              "      <td>24959</td>\n",
              "      <td>2010</td>\n",
              "      <td>1</td>\n",
              "      <td>3</td>\n",
              "      <td>0</td>\n",
              "      <td>0</td>\n",
              "      <td>0.0</td>\n",
              "      <td>-37.3</td>\n",
              "      <td>81</td>\n",
              "      <td>1032.4</td>\n",
              "    </tr>\n",
              "    <tr>\n",
              "      <th>3</th>\n",
              "      <td>24959</td>\n",
              "      <td>2010</td>\n",
              "      <td>1</td>\n",
              "      <td>4</td>\n",
              "      <td>0</td>\n",
              "      <td>0</td>\n",
              "      <td>0.0</td>\n",
              "      <td>-37.8</td>\n",
              "      <td>81</td>\n",
              "      <td>1036.5</td>\n",
              "    </tr>\n",
              "    <tr>\n",
              "      <th>4</th>\n",
              "      <td>24959</td>\n",
              "      <td>2010</td>\n",
              "      <td>1</td>\n",
              "      <td>5</td>\n",
              "      <td>0</td>\n",
              "      <td>0</td>\n",
              "      <td>0.0</td>\n",
              "      <td>-37.5</td>\n",
              "      <td>80</td>\n",
              "      <td>1042.7</td>\n",
              "    </tr>\n",
              "    <tr>\n",
              "      <th>...</th>\n",
              "      <td>...</td>\n",
              "      <td>...</td>\n",
              "      <td>...</td>\n",
              "      <td>...</td>\n",
              "      <td>...</td>\n",
              "      <td>...</td>\n",
              "      <td>...</td>\n",
              "      <td>...</td>\n",
              "      <td>...</td>\n",
              "      <td>...</td>\n",
              "    </tr>\n",
              "    <tr>\n",
              "      <th>3860</th>\n",
              "      <td>24959</td>\n",
              "      <td>2020</td>\n",
              "      <td>7</td>\n",
              "      <td>27</td>\n",
              "      <td>0</td>\n",
              "      <td>0</td>\n",
              "      <td>0.0</td>\n",
              "      <td>17.9</td>\n",
              "      <td>96</td>\n",
              "      <td>996.5</td>\n",
              "    </tr>\n",
              "    <tr>\n",
              "      <th>3861</th>\n",
              "      <td>24959</td>\n",
              "      <td>2020</td>\n",
              "      <td>7</td>\n",
              "      <td>28</td>\n",
              "      <td>343</td>\n",
              "      <td>2</td>\n",
              "      <td>0.0</td>\n",
              "      <td>14.6</td>\n",
              "      <td>78</td>\n",
              "      <td>999.6</td>\n",
              "    </tr>\n",
              "    <tr>\n",
              "      <th>3862</th>\n",
              "      <td>24959</td>\n",
              "      <td>2020</td>\n",
              "      <td>7</td>\n",
              "      <td>29</td>\n",
              "      <td>336</td>\n",
              "      <td>2</td>\n",
              "      <td>0.0</td>\n",
              "      <td>14.4</td>\n",
              "      <td>82</td>\n",
              "      <td>1002.0</td>\n",
              "    </tr>\n",
              "    <tr>\n",
              "      <th>3863</th>\n",
              "      <td>24959</td>\n",
              "      <td>2020</td>\n",
              "      <td>7</td>\n",
              "      <td>30</td>\n",
              "      <td>317</td>\n",
              "      <td>1</td>\n",
              "      <td>0.0</td>\n",
              "      <td>10.2</td>\n",
              "      <td>84</td>\n",
              "      <td>1003.0</td>\n",
              "    </tr>\n",
              "    <tr>\n",
              "      <th>3864</th>\n",
              "      <td>None</td>\n",
              "      <td>None</td>\n",
              "      <td>None</td>\n",
              "      <td>None</td>\n",
              "      <td>None</td>\n",
              "      <td>None</td>\n",
              "      <td>None</td>\n",
              "      <td>None</td>\n",
              "      <td>None</td>\n",
              "      <td>None</td>\n",
              "    </tr>\n",
              "  </tbody>\n",
              "</table>\n",
              "<p>3865 rows × 10 columns</p>\n",
              "</div>"
            ],
            "text/plain": [
              "         0     1     2     3     7     9     12     14    16      18\n",
              "0     24959  2010     1     1     0     0   0.0  -39.3    80  1026.7\n",
              "1     24959  2010     1     2   310     1   0.0  -38.3    80  1030.3\n",
              "2     24959  2010     1     3     0     0   0.0  -37.3    81  1032.4\n",
              "3     24959  2010     1     4     0     0   0.0  -37.8    81  1036.5\n",
              "4     24959  2010     1     5     0     0   0.0  -37.5    80  1042.7\n",
              "...     ...   ...   ...   ...   ...   ...   ...    ...   ...     ...\n",
              "3860  24959  2020     7    27     0     0   0.0   17.9    96   996.5\n",
              "3861  24959  2020     7    28   343     2   0.0   14.6    78   999.6\n",
              "3862  24959  2020     7    29   336     2   0.0   14.4    82  1002.0\n",
              "3863  24959  2020     7    30   317     1   0.0   10.2    84  1003.0\n",
              "3864   None  None  None  None  None  None  None   None  None    None\n",
              "\n",
              "[3865 rows x 10 columns]"
            ]
          },
          "metadata": {
            "tags": []
          },
          "execution_count": 46
        }
      ]
    },
    {
      "cell_type": "code",
      "metadata": {
        "id": "sPn5dbly8Khh"
      },
      "source": [
        "df.columns = ['num', 'year', 'month', 'day', 'wind_v', 'speed_wind', 'rainfall', 'temp', 'humidity', 'press']"
      ],
      "execution_count": 48,
      "outputs": []
    },
    {
      "cell_type": "code",
      "metadata": {
        "id": "rGp_YkGJ9FEl"
      },
      "source": [
        "df = df.dropna()"
      ],
      "execution_count": 67,
      "outputs": []
    },
    {
      "cell_type": "code",
      "metadata": {
        "id": "9ThjNJIs3YL5"
      },
      "source": [
        "data_fire = []"
      ],
      "execution_count": 26,
      "outputs": []
    },
    {
      "cell_type": "code",
      "metadata": {
        "colab": {
          "base_uri": "https://localhost:8080/"
        },
        "id": "yTYlkqt6CM1u",
        "outputId": "039bd7de-43c4-4797-d43d-0eed3b8600d7"
      },
      "source": [
        "current_data = pd.read_excel('fires/2011.xls', header=7)\n",
        "for i in range(len(current_data) - 1):\n",
        "  print(current_data.iloc[i]['Unnamed: 7'])\n",
        "  data_fire.append([pd.date_range(datetime.datetime.strptime(current_data.iloc[i]['Unnamed: 4'], '%d.%m.%Y'), datetime.datetime.strptime(current_data.iloc[i]['Unnamed: 7'].split('ликвидирован ')[1], '%d.%m.%Y')), current_data.iloc[i]['всего']])"
      ],
      "execution_count": 27,
      "outputs": [
        {
          "output_type": "stream",
          "text": [
            "ликвидирован 1.08.2011\n",
            "ликвидирован 28.07.2011\n",
            "ликвидирован 27.07.2011\n",
            "ликвидирован 5.08.2011\n",
            "ликвидирован 5.08.2011\n",
            "ликвидирован 29.08.2011\n"
          ],
          "name": "stdout"
        }
      ]
    },
    {
      "cell_type": "code",
      "metadata": {
        "colab": {
          "base_uri": "https://localhost:8080/"
        },
        "id": "eJIIp-US5FsI",
        "outputId": "eb033e39-3a30-422f-d458-afb59665948a"
      },
      "source": [
        "datetime.datetime.strptime('15.07.2011', '%d.%m.%Y')"
      ],
      "execution_count": 24,
      "outputs": [
        {
          "output_type": "execute_result",
          "data": {
            "text/plain": [
              "datetime.datetime(2011, 8, 1, 0, 0)"
            ]
          },
          "metadata": {
            "tags": []
          },
          "execution_count": 24
        }
      ]
    },
    {
      "cell_type": "code",
      "metadata": {
        "colab": {
          "base_uri": "https://localhost:8080/"
        },
        "id": "lg-Awy534bsF",
        "outputId": "d0870d51-ecfd-4deb-ef3a-63ad567d225b"
      },
      "source": [
        "pd.date_range(datetime.datetime.strptime('15.07.2011', '%d.%m.%Y'), datetime.datetime.strptime('1.08.2011', '%d.%m.%Y'))"
      ],
      "execution_count": 25,
      "outputs": [
        {
          "output_type": "execute_result",
          "data": {
            "text/plain": [
              "DatetimeIndex(['2011-07-15', '2011-07-16', '2011-07-17', '2011-07-18',\n",
              "               '2011-07-19', '2011-07-20', '2011-07-21', '2011-07-22',\n",
              "               '2011-07-23', '2011-07-24', '2011-07-25', '2011-07-26',\n",
              "               '2011-07-27', '2011-07-28', '2011-07-29', '2011-07-30',\n",
              "               '2011-07-31', '2011-08-01'],\n",
              "              dtype='datetime64[ns]', freq='D')"
            ]
          },
          "metadata": {
            "tags": []
          },
          "execution_count": 25
        }
      ]
    },
    {
      "cell_type": "code",
      "metadata": {
        "colab": {
          "base_uri": "https://localhost:8080/",
          "height": 786
        },
        "id": "ytJGyU3hWTm6",
        "outputId": "5a3912c9-9b9d-4310-89f3-e3db1f467d45"
      },
      "source": [
        "pd.read_excel('fires/2011.xls', header=7)"
      ],
      "execution_count": 14,
      "outputs": [
        {
          "output_type": "execute_result",
          "data": {
            "text/html": [
              "<div>\n",
              "<style scoped>\n",
              "    .dataframe tbody tr th:only-of-type {\n",
              "        vertical-align: middle;\n",
              "    }\n",
              "\n",
              "    .dataframe tbody tr th {\n",
              "        vertical-align: top;\n",
              "    }\n",
              "\n",
              "    .dataframe thead th {\n",
              "        text-align: right;\n",
              "    }\n",
              "</style>\n",
              "<table border=\"1\" class=\"dataframe\">\n",
              "  <thead>\n",
              "    <tr style=\"text-align: right;\">\n",
              "      <th></th>\n",
              "      <th>Unnamed: 0</th>\n",
              "      <th>Координаты</th>\n",
              "      <th>Азимут и удаление от ближайшего населенного пункта, и его название</th>\n",
              "      <th>Лесничество</th>\n",
              "      <th>Unnamed: 4</th>\n",
              "      <th>Unnamed: 5</th>\n",
              "      <th>Unnamed: 6</th>\n",
              "      <th>Unnamed: 7</th>\n",
              "      <th>всего</th>\n",
              "      <th>в т.ч. покрытая лесом</th>\n",
              "      <th>всего.1</th>\n",
              "      <th>в т.ч. покрытая лесом.1</th>\n",
              "      <th>всего.2</th>\n",
              "      <th>в т.ч. покрытая лесом.2</th>\n",
              "      <th>Unnamed: 14</th>\n",
              "      <th>Unnamed: 15</th>\n",
              "    </tr>\n",
              "  </thead>\n",
              "  <tbody>\n",
              "    <tr>\n",
              "      <th>0</th>\n",
              "      <td>к-2055 (61394)</td>\n",
              "      <td>59° 06' 29\" с.ш.\\n121° 55' 05\" в.д.</td>\n",
              "      <td>н.п. Дикимдя, азимут 45°, удаление 12.2 км</td>\n",
              "      <td>Олекминский ЗП</td>\n",
              "      <td>15.07.2011</td>\n",
              "      <td>36.0</td>\n",
              "      <td>22.07.2011</td>\n",
              "      <td>ликвидирован 1.08.2011</td>\n",
              "      <td>547</td>\n",
              "      <td>547</td>\n",
              "      <td>542</td>\n",
              "      <td>542</td>\n",
              "      <td>547</td>\n",
              "      <td>547</td>\n",
              "      <td>NaN</td>\n",
              "      <td>NaN</td>\n",
              "    </tr>\n",
              "    <tr>\n",
              "      <th>1</th>\n",
              "      <td>к-2110 (62075)</td>\n",
              "      <td>59° 02' 56\" с.ш.\\n122° 23' 24\" в.д.</td>\n",
              "      <td>н.п. Горелый, азимут 281°, удаление 32.8 км</td>\n",
              "      <td>Олекминский ЗП</td>\n",
              "      <td>17.07.2011</td>\n",
              "      <td>99.0</td>\n",
              "      <td>18.07.2011</td>\n",
              "      <td>ликвидирован 28.07.2011</td>\n",
              "      <td>149</td>\n",
              "      <td>149</td>\n",
              "      <td>149</td>\n",
              "      <td>149</td>\n",
              "      <td>149</td>\n",
              "      <td>149</td>\n",
              "      <td>NaN</td>\n",
              "      <td>NaN</td>\n",
              "    </tr>\n",
              "    <tr>\n",
              "      <th>2</th>\n",
              "      <td>к-2119 (62109)</td>\n",
              "      <td>58° 49' 08\" с.ш.\\n122° 48' 58\" в.д.</td>\n",
              "      <td>н.п. , азимут 285°, удаление 17.4 км</td>\n",
              "      <td>Олекминский ЗП</td>\n",
              "      <td>17.07.2011</td>\n",
              "      <td>30.0</td>\n",
              "      <td>17.07.2011</td>\n",
              "      <td>ликвидирован 27.07.2011</td>\n",
              "      <td>33</td>\n",
              "      <td>33</td>\n",
              "      <td>0</td>\n",
              "      <td>0</td>\n",
              "      <td>33</td>\n",
              "      <td>33</td>\n",
              "      <td>NaN</td>\n",
              "      <td>NaN</td>\n",
              "    </tr>\n",
              "    <tr>\n",
              "      <th>3</th>\n",
              "      <td>к-2125 (62366)</td>\n",
              "      <td>58° 16' 19\" с.ш.\\n122° 19' 59\" в.д.</td>\n",
              "      <td>н.п. , азимут 315°, удаление 38.1 км</td>\n",
              "      <td>Олекминский ЗП</td>\n",
              "      <td>17.07.2011</td>\n",
              "      <td>258.0</td>\n",
              "      <td>26.07.2011</td>\n",
              "      <td>ликвидирован 5.08.2011</td>\n",
              "      <td>1727</td>\n",
              "      <td>1657</td>\n",
              "      <td>349</td>\n",
              "      <td>348</td>\n",
              "      <td>1727</td>\n",
              "      <td>1657</td>\n",
              "      <td>NaN</td>\n",
              "      <td>NaN</td>\n",
              "    </tr>\n",
              "    <tr>\n",
              "      <th>4</th>\n",
              "      <td>к-2318 (65958)</td>\n",
              "      <td>58° 12' 40\" с.ш.\\n122° 20' 02\" в.д.</td>\n",
              "      <td>н.п. , азимут 307°, удаление 33.6 км</td>\n",
              "      <td>Олекминский ЗП</td>\n",
              "      <td>26.07.2011</td>\n",
              "      <td>112.0</td>\n",
              "      <td>26.07.2011</td>\n",
              "      <td>ликвидирован 5.08.2011</td>\n",
              "      <td>458</td>\n",
              "      <td>382</td>\n",
              "      <td>458</td>\n",
              "      <td>382</td>\n",
              "      <td>458</td>\n",
              "      <td>382</td>\n",
              "      <td>NaN</td>\n",
              "      <td>NaN</td>\n",
              "    </tr>\n",
              "    <tr>\n",
              "      <th>5</th>\n",
              "      <td>к-2642 (76443)</td>\n",
              "      <td>58° 15' 50\" с.ш.\\n122° 19' 01\" в.д.</td>\n",
              "      <td>н.п. , азимут 314°, удаление 38.1 км</td>\n",
              "      <td>Олекминский ЗП</td>\n",
              "      <td>19.08.2011</td>\n",
              "      <td>25.0</td>\n",
              "      <td>19.08.2011</td>\n",
              "      <td>ликвидирован 29.08.2011</td>\n",
              "      <td>25</td>\n",
              "      <td>25</td>\n",
              "      <td>0</td>\n",
              "      <td>0</td>\n",
              "      <td>25</td>\n",
              "      <td>25</td>\n",
              "      <td>NaN</td>\n",
              "      <td>NaN</td>\n",
              "    </tr>\n",
              "    <tr>\n",
              "      <th>6</th>\n",
              "      <td>Всего зарегистрированных пожаров за период с 1...</td>\n",
              "      <td>NaN</td>\n",
              "      <td>NaN</td>\n",
              "      <td>NaN</td>\n",
              "      <td>NaN</td>\n",
              "      <td>NaN</td>\n",
              "      <td>NaN</td>\n",
              "      <td>7</td>\n",
              "      <td>2938</td>\n",
              "      <td>2792</td>\n",
              "      <td>1498</td>\n",
              "      <td>1421</td>\n",
              "      <td>2938</td>\n",
              "      <td>2792</td>\n",
              "      <td>NaN</td>\n",
              "      <td>NaN</td>\n",
              "    </tr>\n",
              "  </tbody>\n",
              "</table>\n",
              "</div>"
            ],
            "text/plain": [
              "                                          Unnamed: 0  ... Unnamed: 15\n",
              "0                                     к-2055 (61394)  ...         NaN\n",
              "1                                     к-2110 (62075)  ...         NaN\n",
              "2                                     к-2119 (62109)  ...         NaN\n",
              "3                                     к-2125 (62366)  ...         NaN\n",
              "4                                     к-2318 (65958)  ...         NaN\n",
              "5                                     к-2642 (76443)  ...         NaN\n",
              "6  Всего зарегистрированных пожаров за период с 1...  ...         NaN\n",
              "\n",
              "[7 rows x 16 columns]"
            ]
          },
          "metadata": {
            "tags": []
          },
          "execution_count": 14
        }
      ]
    },
    {
      "cell_type": "code",
      "metadata": {
        "colab": {
          "base_uri": "https://localhost:8080/"
        },
        "id": "xt10j0NwWux_",
        "outputId": "ead809d8-4c8d-499f-c5b8-a1373396db41"
      },
      "source": [
        "current_data = pd.read_excel('fires/2015.xls', header=7)\n",
        "for i in range(len(current_data) - 1):\n",
        "  print(current_data.iloc[i]['Unnamed: 7'])\n",
        "  data_fire.append([pd.date_range(datetime.datetime.strptime(current_data.iloc[i]['Unnamed: 4'], '%d.%m.%Y'), datetime.datetime.strptime(current_data.iloc[i]['Unnamed: 7'].split('ликвидирован ')[1], '%d.%m.%Y')), current_data.iloc[i]['всего']])"
      ],
      "execution_count": 30,
      "outputs": [
        {
          "output_type": "stream",
          "text": [
            "ликвидирован 20.08.2015\n",
            "ликвидирован 20.08.2015\n",
            "ликвидирован 4.09.2015\n",
            "ликвидирован 5.09.2015\n",
            "ликвидирован 4.09.2015\n",
            "ликвидирован 6.09.2015\n",
            "ликвидирован 6.09.2015\n",
            "ликвидирован 5.09.2015\n"
          ],
          "name": "stdout"
        }
      ]
    },
    {
      "cell_type": "code",
      "metadata": {
        "id": "XoL3kX-L5xIM"
      },
      "source": [
        "current_data = pd.read_excel('fires/2016.xls', header=7)\n",
        "for i in range(len(current_data) - 1):\n",
        "  print(current_data.iloc[i]['Unnamed: 7'])\n",
        "  data_fire.append([pd.date_range(datetime.datetime.strptime(current_data.iloc[i]['Unnamed: 4'], '%d.%m.%Y'), datetime.datetime.strptime(current_data.iloc[i]['Unnamed: 7'].split('ликвидирован ')[1], '%d.%m.%Y')), current_data.iloc[i]['всего']])"
      ],
      "execution_count": 32,
      "outputs": []
    },
    {
      "cell_type": "code",
      "metadata": {
        "colab": {
          "base_uri": "https://localhost:8080/"
        },
        "id": "zutKA5eK50SV",
        "outputId": "326d2810-736e-42c3-ec7e-41b6fc8264db"
      },
      "source": [
        "current_data = pd.read_excel('fires/2017.xls', header=7)\n",
        "for i in range(len(current_data) - 1):\n",
        "  print(current_data.iloc[i]['Unnamed: 7'])\n",
        "  data_fire.append([pd.date_range(datetime.datetime.strptime(current_data.iloc[i]['Unnamed: 4'], '%d.%m.%Y'), datetime.datetime.strptime(current_data.iloc[i]['Unnamed: 7'].split('ликвидирован ')[1], '%d.%m.%Y')), current_data.iloc[i]['всего']])"
      ],
      "execution_count": 33,
      "outputs": [
        {
          "output_type": "stream",
          "text": [
            "ликвидирован 19.06.2017\n",
            "ликвидирован 5.07.2017\n",
            "ликвидирован 13.07.2017\n",
            "ликвидирован 27.08.2017\n",
            "ликвидирован 25.08.2017\n"
          ],
          "name": "stdout"
        }
      ]
    },
    {
      "cell_type": "code",
      "metadata": {
        "colab": {
          "base_uri": "https://localhost:8080/"
        },
        "id": "AEfnV5Sr56V1",
        "outputId": "73a05942-cb60-492a-9388-9955467fb798"
      },
      "source": [
        "current_data = pd.read_excel('fires/2018.xls', header=7)\n",
        "for i in range(len(current_data) - 1):\n",
        "  print(current_data.iloc[i]['Unnamed: 7'])\n",
        "  data_fire.append([pd.date_range(datetime.datetime.strptime(current_data.iloc[i]['Unnamed: 4'], '%d.%m.%Y'), datetime.datetime.strptime(current_data.iloc[i]['Unnamed: 7'].split('ликвидирован ')[1], '%d.%m.%Y')), current_data.iloc[i]['всего']])"
      ],
      "execution_count": 34,
      "outputs": [
        {
          "output_type": "stream",
          "text": [
            "ликвидирован 14.05.2018\n",
            "ликвидирован 2.06.2018\n",
            "ликвидирован 31.07.2018\n",
            "ликвидирован 20.07.2018\n",
            "ликвидирован 22.07.2018\n",
            "ликвидирован 31.07.2018\n"
          ],
          "name": "stdout"
        }
      ]
    },
    {
      "cell_type": "code",
      "metadata": {
        "colab": {
          "base_uri": "https://localhost:8080/"
        },
        "id": "gq00JPxp58SW",
        "outputId": "96762d1a-5044-46f2-985c-bb1cbe1a9c54"
      },
      "source": [
        "current_data = pd.read_excel('fires/2019.xls', header=7)\n",
        "for i in range(len(current_data) - 1):\n",
        "  print(current_data.iloc[i]['Unnamed: 7'])\n",
        "  data_fire.append([pd.date_range(datetime.datetime.strptime(current_data.iloc[i]['Unnamed: 4'], '%d.%m.%Y'), datetime.datetime.strptime(current_data.iloc[i]['Unnamed: 7'].split('ликвидирован ')[1], '%d.%m.%Y')), current_data.iloc[i]['всего']])"
      ],
      "execution_count": 35,
      "outputs": [
        {
          "output_type": "stream",
          "text": [
            "ликвидирован 25.05.2019\n",
            "ликвидирован 19.06.2019\n",
            "ликвидирован 18.07.2019\n",
            "ликвидирован 20.07.2019\n",
            "ликвидирован 7.08.2019\n",
            "ликвидирован 14.08.2019\n"
          ],
          "name": "stdout"
        }
      ]
    },
    {
      "cell_type": "code",
      "metadata": {
        "colab": {
          "base_uri": "https://localhost:8080/"
        },
        "id": "2ghfwa4V59jD",
        "outputId": "9d5f151d-abce-48fc-be16-e930e0becaf3"
      },
      "source": [
        "current_data = pd.read_excel('fires/2020.xls', header=7)\n",
        "for i in range(len(current_data) - 1):\n",
        "  print(current_data.iloc[i]['Unnamed: 7'])\n",
        "  data_fire.append([pd.date_range(datetime.datetime.strptime(current_data.iloc[i]['Unnamed: 4'], '%d.%m.%Y'), datetime.datetime.strptime(current_data.iloc[i]['Unnamed: 7'].split('ликвидирован ')[1], '%d.%m.%Y')), current_data.iloc[i]['всего']])"
      ],
      "execution_count": 36,
      "outputs": [
        {
          "output_type": "stream",
          "text": [
            "ликвидирован 20.05.2020\n",
            "ликвидирован 28.05.2020\n",
            "ликвидирован 6.07.2020\n",
            "ликвидирован 8.07.2020\n",
            "ликвидирован 8.07.2020\n",
            "ликвидирован 20.07.2020\n",
            "ликвидирован 22.07.2020\n",
            "ликвидирован 1.10.2020\n"
          ],
          "name": "stdout"
        }
      ]
    },
    {
      "cell_type": "code",
      "metadata": {
        "id": "XsbRcZPO5_nR"
      },
      "source": [
        "data = []\n",
        "for fire in data_fire:\n",
        "  for tim in fire[0]:\n",
        "    data.append([tim, fire[1]])"
      ],
      "execution_count": 37,
      "outputs": []
    },
    {
      "cell_type": "code",
      "metadata": {
        "id": "JGF_iF1S6PZ4"
      },
      "source": [
        "df_fire = pd.DataFrame(data, columns=['date', 'area'])"
      ],
      "execution_count": 39,
      "outputs": []
    },
    {
      "cell_type": "code",
      "metadata": {
        "colab": {
          "base_uri": "https://localhost:8080/",
          "height": 415
        },
        "id": "d7_us8s46QIF",
        "outputId": "62e8f3b8-6f8f-42b9-c0f0-d966924b9752"
      },
      "source": [
        "df_fire"
      ],
      "execution_count": 40,
      "outputs": [
        {
          "output_type": "execute_result",
          "data": {
            "text/html": [
              "<div>\n",
              "<style scoped>\n",
              "    .dataframe tbody tr th:only-of-type {\n",
              "        vertical-align: middle;\n",
              "    }\n",
              "\n",
              "    .dataframe tbody tr th {\n",
              "        vertical-align: top;\n",
              "    }\n",
              "\n",
              "    .dataframe thead th {\n",
              "        text-align: right;\n",
              "    }\n",
              "</style>\n",
              "<table border=\"1\" class=\"dataframe\">\n",
              "  <thead>\n",
              "    <tr style=\"text-align: right;\">\n",
              "      <th></th>\n",
              "      <th>date</th>\n",
              "      <th>area</th>\n",
              "    </tr>\n",
              "  </thead>\n",
              "  <tbody>\n",
              "    <tr>\n",
              "      <th>0</th>\n",
              "      <td>2011-07-15</td>\n",
              "      <td>547</td>\n",
              "    </tr>\n",
              "    <tr>\n",
              "      <th>1</th>\n",
              "      <td>2011-07-16</td>\n",
              "      <td>547</td>\n",
              "    </tr>\n",
              "    <tr>\n",
              "      <th>2</th>\n",
              "      <td>2011-07-17</td>\n",
              "      <td>547</td>\n",
              "    </tr>\n",
              "    <tr>\n",
              "      <th>3</th>\n",
              "      <td>2011-07-18</td>\n",
              "      <td>547</td>\n",
              "    </tr>\n",
              "    <tr>\n",
              "      <th>4</th>\n",
              "      <td>2011-07-19</td>\n",
              "      <td>547</td>\n",
              "    </tr>\n",
              "    <tr>\n",
              "      <th>...</th>\n",
              "      <td>...</td>\n",
              "      <td>...</td>\n",
              "    </tr>\n",
              "    <tr>\n",
              "      <th>512</th>\n",
              "      <td>2020-09-27</td>\n",
              "      <td>1195</td>\n",
              "    </tr>\n",
              "    <tr>\n",
              "      <th>513</th>\n",
              "      <td>2020-09-28</td>\n",
              "      <td>1195</td>\n",
              "    </tr>\n",
              "    <tr>\n",
              "      <th>514</th>\n",
              "      <td>2020-09-29</td>\n",
              "      <td>1195</td>\n",
              "    </tr>\n",
              "    <tr>\n",
              "      <th>515</th>\n",
              "      <td>2020-09-30</td>\n",
              "      <td>1195</td>\n",
              "    </tr>\n",
              "    <tr>\n",
              "      <th>516</th>\n",
              "      <td>2020-10-01</td>\n",
              "      <td>1195</td>\n",
              "    </tr>\n",
              "  </tbody>\n",
              "</table>\n",
              "<p>517 rows × 2 columns</p>\n",
              "</div>"
            ],
            "text/plain": [
              "          date  area\n",
              "0   2011-07-15   547\n",
              "1   2011-07-16   547\n",
              "2   2011-07-17   547\n",
              "3   2011-07-18   547\n",
              "4   2011-07-19   547\n",
              "..         ...   ...\n",
              "512 2020-09-27  1195\n",
              "513 2020-09-28  1195\n",
              "514 2020-09-29  1195\n",
              "515 2020-09-30  1195\n",
              "516 2020-10-01  1195\n",
              "\n",
              "[517 rows x 2 columns]"
            ]
          },
          "metadata": {
            "tags": []
          },
          "execution_count": 40
        }
      ]
    },
    {
      "cell_type": "code",
      "metadata": {
        "colab": {
          "base_uri": "https://localhost:8080/"
        },
        "id": "wJrIVTbK6lb8",
        "outputId": "35bcbb1b-5450-4c3a-d7b4-b0ee94fdb89d"
      },
      "source": [
        "df['date'] = list(map(lambda x: datetime.datetime.strptime(f'{x[2]}.{x[1]}.{x[0]}', '%d.%m.%Y'), zip(df['year'], df['month'], df['day'])))"
      ],
      "execution_count": 68,
      "outputs": [
        {
          "output_type": "stream",
          "text": [
            "/usr/local/lib/python3.7/dist-packages/ipykernel_launcher.py:1: SettingWithCopyWarning: \n",
            "A value is trying to be set on a copy of a slice from a DataFrame.\n",
            "Try using .loc[row_indexer,col_indexer] = value instead\n",
            "\n",
            "See the caveats in the documentation: https://pandas.pydata.org/pandas-docs/stable/user_guide/indexing.html#returning-a-view-versus-a-copy\n",
            "  \"\"\"Entry point for launching an IPython kernel.\n"
          ],
          "name": "stderr"
        }
      ]
    },
    {
      "cell_type": "code",
      "metadata": {
        "id": "g7KWCNQv9WSr"
      },
      "source": [
        "area_df = df_fire.merge(df, on=['date'], how='right')"
      ],
      "execution_count": 80,
      "outputs": []
    },
    {
      "cell_type": "code",
      "metadata": {
        "id": "K7xfXSOc9iLl"
      },
      "source": [
        "area_df.area = area_df.area.fillna(0)"
      ],
      "execution_count": 82,
      "outputs": []
    },
    {
      "cell_type": "code",
      "metadata": {
        "id": "Jv8M6HIA_PjO"
      },
      "source": [
        "full_df = area_df[area_df.area == 0].sample(frac=0.14).append(area_df[area_df.area != 0])"
      ],
      "execution_count": 89,
      "outputs": []
    },
    {
      "cell_type": "code",
      "metadata": {
        "colab": {
          "base_uri": "https://localhost:8080/",
          "height": 415
        },
        "id": "4CPtUgGI_uph",
        "outputId": "192a840c-978d-4bc7-99b8-6f84d88a5e09"
      },
      "source": [
        "full_df"
      ],
      "execution_count": 90,
      "outputs": [
        {
          "output_type": "execute_result",
          "data": {
            "text/html": [
              "<div>\n",
              "<style scoped>\n",
              "    .dataframe tbody tr th:only-of-type {\n",
              "        vertical-align: middle;\n",
              "    }\n",
              "\n",
              "    .dataframe tbody tr th {\n",
              "        vertical-align: top;\n",
              "    }\n",
              "\n",
              "    .dataframe thead th {\n",
              "        text-align: right;\n",
              "    }\n",
              "</style>\n",
              "<table border=\"1\" class=\"dataframe\">\n",
              "  <thead>\n",
              "    <tr style=\"text-align: right;\">\n",
              "      <th></th>\n",
              "      <th>date</th>\n",
              "      <th>area</th>\n",
              "      <th>num</th>\n",
              "      <th>year</th>\n",
              "      <th>month</th>\n",
              "      <th>day</th>\n",
              "      <th>wind_v</th>\n",
              "      <th>speed_wind</th>\n",
              "      <th>rainfall</th>\n",
              "      <th>temp</th>\n",
              "      <th>humidity</th>\n",
              "      <th>press</th>\n",
              "    </tr>\n",
              "  </thead>\n",
              "  <tbody>\n",
              "    <tr>\n",
              "      <th>3105</th>\n",
              "      <td>2018-01-11</td>\n",
              "      <td>0.0</td>\n",
              "      <td>24959</td>\n",
              "      <td>2018</td>\n",
              "      <td>1</td>\n",
              "      <td>11</td>\n",
              "      <td>222</td>\n",
              "      <td>2</td>\n",
              "      <td>0.0</td>\n",
              "      <td>-41.0</td>\n",
              "      <td>73</td>\n",
              "      <td>1007.5</td>\n",
              "    </tr>\n",
              "    <tr>\n",
              "      <th>1602</th>\n",
              "      <td>2014-04-02</td>\n",
              "      <td>0.0</td>\n",
              "      <td>24959</td>\n",
              "      <td>2014</td>\n",
              "      <td>4</td>\n",
              "      <td>2</td>\n",
              "      <td>0</td>\n",
              "      <td>0</td>\n",
              "      <td>0.0</td>\n",
              "      <td>-19.9</td>\n",
              "      <td>82</td>\n",
              "      <td>1005.3</td>\n",
              "    </tr>\n",
              "    <tr>\n",
              "      <th>1051</th>\n",
              "      <td>2012-09-28</td>\n",
              "      <td>0.0</td>\n",
              "      <td>24959</td>\n",
              "      <td>2012</td>\n",
              "      <td>9</td>\n",
              "      <td>28</td>\n",
              "      <td>0</td>\n",
              "      <td>0</td>\n",
              "      <td>0.0</td>\n",
              "      <td>1.0</td>\n",
              "      <td>88</td>\n",
              "      <td>1002.2</td>\n",
              "    </tr>\n",
              "    <tr>\n",
              "      <th>273</th>\n",
              "      <td>2010-10-01</td>\n",
              "      <td>0.0</td>\n",
              "      <td>24959</td>\n",
              "      <td>2010</td>\n",
              "      <td>10</td>\n",
              "      <td>1</td>\n",
              "      <td>0</td>\n",
              "      <td>0</td>\n",
              "      <td>0.0</td>\n",
              "      <td>-11.6</td>\n",
              "      <td>95</td>\n",
              "      <td>1015.4</td>\n",
              "    </tr>\n",
              "    <tr>\n",
              "      <th>799</th>\n",
              "      <td>2012-01-20</td>\n",
              "      <td>0.0</td>\n",
              "      <td>24959</td>\n",
              "      <td>2012</td>\n",
              "      <td>1</td>\n",
              "      <td>20</td>\n",
              "      <td>320</td>\n",
              "      <td>2</td>\n",
              "      <td>0.0</td>\n",
              "      <td>-28.5</td>\n",
              "      <td>69</td>\n",
              "      <td>1029.5</td>\n",
              "    </tr>\n",
              "    <tr>\n",
              "      <th>...</th>\n",
              "      <td>...</td>\n",
              "      <td>...</td>\n",
              "      <td>...</td>\n",
              "      <td>...</td>\n",
              "      <td>...</td>\n",
              "      <td>...</td>\n",
              "      <td>...</td>\n",
              "      <td>...</td>\n",
              "      <td>...</td>\n",
              "      <td>...</td>\n",
              "      <td>...</td>\n",
              "      <td>...</td>\n",
              "    </tr>\n",
              "    <tr>\n",
              "      <th>4079</th>\n",
              "      <td>2020-07-19</td>\n",
              "      <td>13.0</td>\n",
              "      <td>24959</td>\n",
              "      <td>2020</td>\n",
              "      <td>7</td>\n",
              "      <td>19</td>\n",
              "      <td>53</td>\n",
              "      <td>2</td>\n",
              "      <td>0.0</td>\n",
              "      <td>21.8</td>\n",
              "      <td>86</td>\n",
              "      <td>994.2</td>\n",
              "    </tr>\n",
              "    <tr>\n",
              "      <th>4080</th>\n",
              "      <td>2020-07-20</td>\n",
              "      <td>3.0</td>\n",
              "      <td>24959</td>\n",
              "      <td>2020</td>\n",
              "      <td>7</td>\n",
              "      <td>20</td>\n",
              "      <td>127</td>\n",
              "      <td>5</td>\n",
              "      <td>0.0</td>\n",
              "      <td>24.2</td>\n",
              "      <td>69</td>\n",
              "      <td>987.9</td>\n",
              "    </tr>\n",
              "    <tr>\n",
              "      <th>4081</th>\n",
              "      <td>2020-07-20</td>\n",
              "      <td>13.0</td>\n",
              "      <td>24959</td>\n",
              "      <td>2020</td>\n",
              "      <td>7</td>\n",
              "      <td>20</td>\n",
              "      <td>127</td>\n",
              "      <td>5</td>\n",
              "      <td>0.0</td>\n",
              "      <td>24.2</td>\n",
              "      <td>69</td>\n",
              "      <td>987.9</td>\n",
              "    </tr>\n",
              "    <tr>\n",
              "      <th>4082</th>\n",
              "      <td>2020-07-21</td>\n",
              "      <td>13.0</td>\n",
              "      <td>24959</td>\n",
              "      <td>2020</td>\n",
              "      <td>7</td>\n",
              "      <td>21</td>\n",
              "      <td>129</td>\n",
              "      <td>4</td>\n",
              "      <td>0.0</td>\n",
              "      <td>15.7</td>\n",
              "      <td>80</td>\n",
              "      <td>994.5</td>\n",
              "    </tr>\n",
              "    <tr>\n",
              "      <th>4083</th>\n",
              "      <td>2020-07-22</td>\n",
              "      <td>13.0</td>\n",
              "      <td>24959</td>\n",
              "      <td>2020</td>\n",
              "      <td>7</td>\n",
              "      <td>22</td>\n",
              "      <td>102</td>\n",
              "      <td>2</td>\n",
              "      <td>0.0</td>\n",
              "      <td>16.2</td>\n",
              "      <td>81</td>\n",
              "      <td>1000.6</td>\n",
              "    </tr>\n",
              "  </tbody>\n",
              "</table>\n",
              "<p>1001 rows × 12 columns</p>\n",
              "</div>"
            ],
            "text/plain": [
              "           date  area    num  year  ... rainfall   temp humidity   press\n",
              "3105 2018-01-11   0.0  24959  2018  ...      0.0  -41.0       73  1007.5\n",
              "1602 2014-04-02   0.0  24959  2014  ...      0.0  -19.9       82  1005.3\n",
              "1051 2012-09-28   0.0  24959  2012  ...      0.0    1.0       88  1002.2\n",
              "273  2010-10-01   0.0  24959  2010  ...      0.0  -11.6       95  1015.4\n",
              "799  2012-01-20   0.0  24959  2012  ...      0.0  -28.5       69  1029.5\n",
              "...         ...   ...    ...   ...  ...      ...    ...      ...     ...\n",
              "4079 2020-07-19  13.0  24959  2020  ...      0.0   21.8       86   994.2\n",
              "4080 2020-07-20   3.0  24959  2020  ...      0.0   24.2       69   987.9\n",
              "4081 2020-07-20  13.0  24959  2020  ...      0.0   24.2       69   987.9\n",
              "4082 2020-07-21  13.0  24959  2020  ...      0.0   15.7       80   994.5\n",
              "4083 2020-07-22  13.0  24959  2020  ...      0.0   16.2       81  1000.6\n",
              "\n",
              "[1001 rows x 12 columns]"
            ]
          },
          "metadata": {
            "tags": []
          },
          "execution_count": 90
        }
      ]
    },
    {
      "cell_type": "code",
      "metadata": {
        "id": "_m5nVduWAKB1"
      },
      "source": [
        "X_train, X_test, y_train, y_test = train_test_split(full_df.drop(['date', 'year', 'day', 'num', 'area'], axis=1), full_df['area'], test_size=0.1)"
      ],
      "execution_count": 91,
      "outputs": []
    },
    {
      "cell_type": "code",
      "metadata": {
        "id": "djJUqvWeBPr9"
      },
      "source": [
        "model = LGBMRegressor(random_state=42).fit(X_train.to_numpy(), y_train)"
      ],
      "execution_count": 96,
      "outputs": []
    },
    {
      "cell_type": "code",
      "metadata": {
        "id": "TiRLwrrBBRbO"
      },
      "source": [
        "y_pred = model.predict(X_test.to_numpy())"
      ],
      "execution_count": 98,
      "outputs": []
    },
    {
      "cell_type": "code",
      "metadata": {
        "id": "YlU2OOlfBuHZ"
      },
      "source": [
        "import pickle\n",
        "pickle.dump(model, open('fire-weather.pkl', 'wb'))"
      ],
      "execution_count": 99,
      "outputs": []
    },
    {
      "cell_type": "code",
      "metadata": {
        "colab": {
          "base_uri": "https://localhost:8080/",
          "height": 415
        },
        "id": "pUacNN5ECuwc",
        "outputId": "8b6a74fd-0feb-46f5-ed79-29d7e09e231e"
      },
      "source": [
        "X_train"
      ],
      "execution_count": 100,
      "outputs": [
        {
          "output_type": "execute_result",
          "data": {
            "text/html": [
              "<div>\n",
              "<style scoped>\n",
              "    .dataframe tbody tr th:only-of-type {\n",
              "        vertical-align: middle;\n",
              "    }\n",
              "\n",
              "    .dataframe tbody tr th {\n",
              "        vertical-align: top;\n",
              "    }\n",
              "\n",
              "    .dataframe thead th {\n",
              "        text-align: right;\n",
              "    }\n",
              "</style>\n",
              "<table border=\"1\" class=\"dataframe\">\n",
              "  <thead>\n",
              "    <tr style=\"text-align: right;\">\n",
              "      <th></th>\n",
              "      <th>month</th>\n",
              "      <th>wind_v</th>\n",
              "      <th>speed_wind</th>\n",
              "      <th>rainfall</th>\n",
              "      <th>temp</th>\n",
              "      <th>humidity</th>\n",
              "      <th>press</th>\n",
              "    </tr>\n",
              "  </thead>\n",
              "  <tbody>\n",
              "    <tr>\n",
              "      <th>2086</th>\n",
              "      <td>7</td>\n",
              "      <td>260</td>\n",
              "      <td>1</td>\n",
              "      <td>0.0</td>\n",
              "      <td>11.8</td>\n",
              "      <td>84</td>\n",
              "      <td>998.4</td>\n",
              "    </tr>\n",
              "    <tr>\n",
              "      <th>3564</th>\n",
              "      <td>3</td>\n",
              "      <td>190</td>\n",
              "      <td>1</td>\n",
              "      <td>0.0</td>\n",
              "      <td>-20.3</td>\n",
              "      <td>85</td>\n",
              "      <td>1001.0</td>\n",
              "    </tr>\n",
              "    <tr>\n",
              "      <th>2757</th>\n",
              "      <td>2</td>\n",
              "      <td>0</td>\n",
              "      <td>0</td>\n",
              "      <td>0.0</td>\n",
              "      <td>-35.9</td>\n",
              "      <td>83</td>\n",
              "      <td>1000.8</td>\n",
              "    </tr>\n",
              "    <tr>\n",
              "      <th>2013</th>\n",
              "      <td>5</td>\n",
              "      <td>160</td>\n",
              "      <td>1</td>\n",
              "      <td>0.0</td>\n",
              "      <td>6.3</td>\n",
              "      <td>53</td>\n",
              "      <td>992.8</td>\n",
              "    </tr>\n",
              "    <tr>\n",
              "      <th>3125</th>\n",
              "      <td>1</td>\n",
              "      <td>0</td>\n",
              "      <td>0</td>\n",
              "      <td>0.0</td>\n",
              "      <td>-38.4</td>\n",
              "      <td>74</td>\n",
              "      <td>1015.7</td>\n",
              "    </tr>\n",
              "    <tr>\n",
              "      <th>...</th>\n",
              "      <td>...</td>\n",
              "      <td>...</td>\n",
              "      <td>...</td>\n",
              "      <td>...</td>\n",
              "      <td>...</td>\n",
              "      <td>...</td>\n",
              "      <td>...</td>\n",
              "    </tr>\n",
              "    <tr>\n",
              "      <th>663</th>\n",
              "      <td>9</td>\n",
              "      <td>0</td>\n",
              "      <td>0</td>\n",
              "      <td>0.0</td>\n",
              "      <td>8.9</td>\n",
              "      <td>95</td>\n",
              "      <td>997.2</td>\n",
              "    </tr>\n",
              "    <tr>\n",
              "      <th>2028</th>\n",
              "      <td>6</td>\n",
              "      <td>310</td>\n",
              "      <td>1</td>\n",
              "      <td>0.0</td>\n",
              "      <td>7.5</td>\n",
              "      <td>92</td>\n",
              "      <td>994.9</td>\n",
              "    </tr>\n",
              "    <tr>\n",
              "      <th>2323</th>\n",
              "      <td>12</td>\n",
              "      <td>270</td>\n",
              "      <td>1</td>\n",
              "      <td>0.0</td>\n",
              "      <td>-30.4</td>\n",
              "      <td>77</td>\n",
              "      <td>1001.9</td>\n",
              "    </tr>\n",
              "    <tr>\n",
              "      <th>2176</th>\n",
              "      <td>8</td>\n",
              "      <td>0</td>\n",
              "      <td>0</td>\n",
              "      <td>0.0</td>\n",
              "      <td>9.8</td>\n",
              "      <td>92</td>\n",
              "      <td>1010.3</td>\n",
              "    </tr>\n",
              "    <tr>\n",
              "      <th>3915</th>\n",
              "      <td>2</td>\n",
              "      <td>0</td>\n",
              "      <td>0</td>\n",
              "      <td>0.0</td>\n",
              "      <td>-28.7</td>\n",
              "      <td>81</td>\n",
              "      <td>997.9</td>\n",
              "    </tr>\n",
              "  </tbody>\n",
              "</table>\n",
              "<p>900 rows × 7 columns</p>\n",
              "</div>"
            ],
            "text/plain": [
              "     month wind_v speed_wind rainfall   temp humidity   press\n",
              "2086     7    260          1      0.0   11.8       84   998.4\n",
              "3564     3    190          1      0.0  -20.3       85  1001.0\n",
              "2757     2      0          0      0.0  -35.9       83  1000.8\n",
              "2013     5    160          1      0.0    6.3       53   992.8\n",
              "3125     1      0          0      0.0  -38.4       74  1015.7\n",
              "...    ...    ...        ...      ...    ...      ...     ...\n",
              "663      9      0          0      0.0    8.9       95   997.2\n",
              "2028     6    310          1      0.0    7.5       92   994.9\n",
              "2323    12    270          1      0.0  -30.4       77  1001.9\n",
              "2176     8      0          0      0.0    9.8       92  1010.3\n",
              "3915     2      0          0      0.0  -28.7       81   997.9\n",
              "\n",
              "[900 rows x 7 columns]"
            ]
          },
          "metadata": {
            "tags": []
          },
          "execution_count": 100
        }
      ]
    },
    {
      "cell_type": "code",
      "metadata": {
        "id": "OLljFo5kCyeB"
      },
      "source": [
        ""
      ],
      "execution_count": null,
      "outputs": []
    }
  ]
}